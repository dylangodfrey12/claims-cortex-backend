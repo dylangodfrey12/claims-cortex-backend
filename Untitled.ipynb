{
 "cells": [
  {
   "cell_type": "code",
   "execution_count": 1,
   "id": "982af240-49f9-474b-83aa-58e437ed7f7b",
   "metadata": {},
   "outputs": [
    {
     "name": "stdout",
     "output_type": "stream",
     "text": [
      "Requirement already satisfied: openai==0.28.0 in c:\\users\\lenovo\\anaconda3\\lib\\site-packages (0.28.0)\n",
      "Requirement already satisfied: requests>=2.20 in c:\\users\\lenovo\\anaconda3\\lib\\site-packages (from openai==0.28.0) (2.31.0)\n",
      "Requirement already satisfied: tqdm in c:\\users\\lenovo\\anaconda3\\lib\\site-packages (from openai==0.28.0) (4.65.0)\n",
      "Requirement already satisfied: aiohttp in c:\\users\\lenovo\\anaconda3\\lib\\site-packages (from openai==0.28.0) (3.9.3)\n",
      "Requirement already satisfied: charset-normalizer<4,>=2 in c:\\users\\lenovo\\anaconda3\\lib\\site-packages (from requests>=2.20->openai==0.28.0) (2.0.4)\n",
      "Requirement already satisfied: idna<4,>=2.5 in c:\\users\\lenovo\\anaconda3\\lib\\site-packages (from requests>=2.20->openai==0.28.0) (3.4)\n",
      "Requirement already satisfied: urllib3<3,>=1.21.1 in c:\\users\\lenovo\\anaconda3\\lib\\site-packages (from requests>=2.20->openai==0.28.0) (2.0.7)\n",
      "Requirement already satisfied: certifi>=2017.4.17 in c:\\users\\lenovo\\anaconda3\\lib\\site-packages (from requests>=2.20->openai==0.28.0) (2024.2.2)\n",
      "Requirement already satisfied: aiosignal>=1.1.2 in c:\\users\\lenovo\\anaconda3\\lib\\site-packages (from aiohttp->openai==0.28.0) (1.2.0)\n",
      "Requirement already satisfied: attrs>=17.3.0 in c:\\users\\lenovo\\anaconda3\\lib\\site-packages (from aiohttp->openai==0.28.0) (23.1.0)\n",
      "Requirement already satisfied: frozenlist>=1.1.1 in c:\\users\\lenovo\\anaconda3\\lib\\site-packages (from aiohttp->openai==0.28.0) (1.4.0)\n",
      "Requirement already satisfied: multidict<7.0,>=4.5 in c:\\users\\lenovo\\anaconda3\\lib\\site-packages (from aiohttp->openai==0.28.0) (6.0.4)\n",
      "Requirement already satisfied: yarl<2.0,>=1.0 in c:\\users\\lenovo\\anaconda3\\lib\\site-packages (from aiohttp->openai==0.28.0) (1.9.3)\n",
      "Requirement already satisfied: colorama in c:\\users\\lenovo\\anaconda3\\lib\\site-packages (from tqdm->openai==0.28.0) (0.4.6)\n"
     ]
    }
   ],
   "source": [
    "!pip install openai==0.28.0"
   ]
  },
  {
   "cell_type": "code",
   "execution_count": 2,
   "id": "9923a6ea-94df-4183-be8e-b0d8d1125306",
   "metadata": {},
   "outputs": [
    {
     "name": "stdout",
     "output_type": "stream",
     "text": [
      "Requirement already satisfied: anthropic in c:\\users\\lenovo\\anaconda3\\lib\\site-packages (0.29.0)\n",
      "Requirement already satisfied: anyio<5,>=3.5.0 in c:\\users\\lenovo\\anaconda3\\lib\\site-packages (from anthropic) (4.2.0)\n",
      "Requirement already satisfied: distro<2,>=1.7.0 in c:\\users\\lenovo\\anaconda3\\lib\\site-packages (from anthropic) (1.8.0)\n",
      "Requirement already satisfied: httpx<1,>=0.23.0 in c:\\users\\lenovo\\anaconda3\\lib\\site-packages (from anthropic) (0.27.0)\n",
      "Requirement already satisfied: jiter<1,>=0.4.0 in c:\\users\\lenovo\\anaconda3\\lib\\site-packages (from anthropic) (0.5.0)\n",
      "Requirement already satisfied: pydantic<3,>=1.9.0 in c:\\users\\lenovo\\anaconda3\\lib\\site-packages (from anthropic) (1.10.12)\n",
      "Requirement already satisfied: sniffio in c:\\users\\lenovo\\anaconda3\\lib\\site-packages (from anthropic) (1.3.0)\n",
      "Requirement already satisfied: tokenizers>=0.13.0 in c:\\users\\lenovo\\anaconda3\\lib\\site-packages (from anthropic) (0.19.1)\n",
      "Requirement already satisfied: typing-extensions<5,>=4.7 in c:\\users\\lenovo\\anaconda3\\lib\\site-packages (from anthropic) (4.9.0)\n",
      "Requirement already satisfied: idna>=2.8 in c:\\users\\lenovo\\anaconda3\\lib\\site-packages (from anyio<5,>=3.5.0->anthropic) (3.4)\n",
      "Requirement already satisfied: certifi in c:\\users\\lenovo\\anaconda3\\lib\\site-packages (from httpx<1,>=0.23.0->anthropic) (2024.2.2)\n",
      "Requirement already satisfied: httpcore==1.* in c:\\users\\lenovo\\anaconda3\\lib\\site-packages (from httpx<1,>=0.23.0->anthropic) (1.0.5)\n",
      "Requirement already satisfied: h11<0.15,>=0.13 in c:\\users\\lenovo\\anaconda3\\lib\\site-packages (from httpcore==1.*->httpx<1,>=0.23.0->anthropic) (0.14.0)\n",
      "Requirement already satisfied: huggingface-hub<1.0,>=0.16.4 in c:\\users\\lenovo\\anaconda3\\lib\\site-packages (from tokenizers>=0.13.0->anthropic) (0.23.4)\n",
      "Requirement already satisfied: filelock in c:\\users\\lenovo\\anaconda3\\lib\\site-packages (from huggingface-hub<1.0,>=0.16.4->tokenizers>=0.13.0->anthropic) (3.13.1)\n",
      "Requirement already satisfied: fsspec>=2023.5.0 in c:\\users\\lenovo\\anaconda3\\lib\\site-packages (from huggingface-hub<1.0,>=0.16.4->tokenizers>=0.13.0->anthropic) (2023.10.0)\n",
      "Requirement already satisfied: packaging>=20.9 in c:\\users\\lenovo\\anaconda3\\lib\\site-packages (from huggingface-hub<1.0,>=0.16.4->tokenizers>=0.13.0->anthropic) (24.1)\n",
      "Requirement already satisfied: pyyaml>=5.1 in c:\\users\\lenovo\\anaconda3\\lib\\site-packages (from huggingface-hub<1.0,>=0.16.4->tokenizers>=0.13.0->anthropic) (6.0.1)\n",
      "Requirement already satisfied: requests in c:\\users\\lenovo\\anaconda3\\lib\\site-packages (from huggingface-hub<1.0,>=0.16.4->tokenizers>=0.13.0->anthropic) (2.31.0)\n",
      "Requirement already satisfied: tqdm>=4.42.1 in c:\\users\\lenovo\\anaconda3\\lib\\site-packages (from huggingface-hub<1.0,>=0.16.4->tokenizers>=0.13.0->anthropic) (4.65.0)\n",
      "Requirement already satisfied: colorama in c:\\users\\lenovo\\anaconda3\\lib\\site-packages (from tqdm>=4.42.1->huggingface-hub<1.0,>=0.16.4->tokenizers>=0.13.0->anthropic) (0.4.6)\n",
      "Requirement already satisfied: charset-normalizer<4,>=2 in c:\\users\\lenovo\\anaconda3\\lib\\site-packages (from requests->huggingface-hub<1.0,>=0.16.4->tokenizers>=0.13.0->anthropic) (2.0.4)\n",
      "Requirement already satisfied: urllib3<3,>=1.21.1 in c:\\users\\lenovo\\anaconda3\\lib\\site-packages (from requests->huggingface-hub<1.0,>=0.16.4->tokenizers>=0.13.0->anthropic) (2.0.7)\n"
     ]
    }
   ],
   "source": [
    "!pip install anthropic"
   ]
  },
  {
   "cell_type": "code",
   "execution_count": 3,
   "id": "1d6314e6-8ee4-4276-8303-744b7837b6e3",
   "metadata": {},
   "outputs": [
    {
     "name": "stdout",
     "output_type": "stream",
     "text": [
      "Requirement already satisfied: tiktoken in c:\\users\\lenovo\\anaconda3\\lib\\site-packages (0.7.0)\n",
      "Requirement already satisfied: regex>=2022.1.18 in c:\\users\\lenovo\\anaconda3\\lib\\site-packages (from tiktoken) (2023.10.3)\n",
      "Requirement already satisfied: requests>=2.26.0 in c:\\users\\lenovo\\anaconda3\\lib\\site-packages (from tiktoken) (2.31.0)\n",
      "Requirement already satisfied: charset-normalizer<4,>=2 in c:\\users\\lenovo\\anaconda3\\lib\\site-packages (from requests>=2.26.0->tiktoken) (2.0.4)\n",
      "Requirement already satisfied: idna<4,>=2.5 in c:\\users\\lenovo\\anaconda3\\lib\\site-packages (from requests>=2.26.0->tiktoken) (3.4)\n",
      "Requirement already satisfied: urllib3<3,>=1.21.1 in c:\\users\\lenovo\\anaconda3\\lib\\site-packages (from requests>=2.26.0->tiktoken) (2.0.7)\n",
      "Requirement already satisfied: certifi>=2017.4.17 in c:\\users\\lenovo\\anaconda3\\lib\\site-packages (from requests>=2.26.0->tiktoken) (2024.2.2)\n"
     ]
    }
   ],
   "source": [
    "!pip install tiktoken"
   ]
  },
  {
   "cell_type": "code",
   "execution_count": 4,
   "id": "97941adf-e2e7-4a6c-8ac8-6d1ecc9af99a",
   "metadata": {},
   "outputs": [
    {
     "name": "stdout",
     "output_type": "stream",
     "text": [
      "Requirement already satisfied: pinecone in c:\\users\\lenovo\\anaconda3\\lib\\site-packages (4.0.0)\n",
      "Requirement already satisfied: certifi>=2019.11.17 in c:\\users\\lenovo\\anaconda3\\lib\\site-packages (from pinecone) (2024.2.2)\n",
      "Requirement already satisfied: tqdm>=4.64.1 in c:\\users\\lenovo\\anaconda3\\lib\\site-packages (from pinecone) (4.65.0)\n",
      "Requirement already satisfied: typing-extensions>=3.7.4 in c:\\users\\lenovo\\anaconda3\\lib\\site-packages (from pinecone) (4.9.0)\n",
      "Requirement already satisfied: urllib3>=1.26.0 in c:\\users\\lenovo\\anaconda3\\lib\\site-packages (from pinecone) (2.0.7)\n",
      "Requirement already satisfied: colorama in c:\\users\\lenovo\\anaconda3\\lib\\site-packages (from tqdm>=4.64.1->pinecone) (0.4.6)\n"
     ]
    }
   ],
   "source": [
    "!pip install pinecone"
   ]
  },
  {
   "cell_type": "code",
   "execution_count": 5,
   "id": "9b0e65a4-33a2-4ca0-9dcb-d12ab848a20d",
   "metadata": {},
   "outputs": [
    {
     "name": "stdout",
     "output_type": "stream",
     "text": [
      "Requirement already satisfied: langchain_community in c:\\users\\lenovo\\anaconda3\\lib\\site-packages (0.2.5)\n",
      "Requirement already satisfied: PyYAML>=5.3 in c:\\users\\lenovo\\anaconda3\\lib\\site-packages (from langchain_community) (6.0.1)\n",
      "Requirement already satisfied: SQLAlchemy<3,>=1.4 in c:\\users\\lenovo\\anaconda3\\lib\\site-packages (from langchain_community) (2.0.25)\n",
      "Requirement already satisfied: aiohttp<4.0.0,>=3.8.3 in c:\\users\\lenovo\\anaconda3\\lib\\site-packages (from langchain_community) (3.9.3)\n",
      "Requirement already satisfied: dataclasses-json<0.7,>=0.5.7 in c:\\users\\lenovo\\anaconda3\\lib\\site-packages (from langchain_community) (0.6.7)\n",
      "Requirement already satisfied: langchain<0.3.0,>=0.2.5 in c:\\users\\lenovo\\anaconda3\\lib\\site-packages (from langchain_community) (0.2.5)\n",
      "Requirement already satisfied: langchain-core<0.3.0,>=0.2.7 in c:\\users\\lenovo\\anaconda3\\lib\\site-packages (from langchain_community) (0.2.9)\n",
      "Requirement already satisfied: langsmith<0.2.0,>=0.1.0 in c:\\users\\lenovo\\anaconda3\\lib\\site-packages (from langchain_community) (0.1.82)\n",
      "Requirement already satisfied: numpy<2,>=1 in c:\\users\\lenovo\\anaconda3\\lib\\site-packages (from langchain_community) (1.26.4)\n",
      "Requirement already satisfied: requests<3,>=2 in c:\\users\\lenovo\\anaconda3\\lib\\site-packages (from langchain_community) (2.31.0)\n",
      "Requirement already satisfied: tenacity<9.0.0,>=8.1.0 in c:\\users\\lenovo\\anaconda3\\lib\\site-packages (from langchain_community) (8.2.2)\n",
      "Requirement already satisfied: aiosignal>=1.1.2 in c:\\users\\lenovo\\anaconda3\\lib\\site-packages (from aiohttp<4.0.0,>=3.8.3->langchain_community) (1.2.0)\n",
      "Requirement already satisfied: attrs>=17.3.0 in c:\\users\\lenovo\\anaconda3\\lib\\site-packages (from aiohttp<4.0.0,>=3.8.3->langchain_community) (23.1.0)\n",
      "Requirement already satisfied: frozenlist>=1.1.1 in c:\\users\\lenovo\\anaconda3\\lib\\site-packages (from aiohttp<4.0.0,>=3.8.3->langchain_community) (1.4.0)\n",
      "Requirement already satisfied: multidict<7.0,>=4.5 in c:\\users\\lenovo\\anaconda3\\lib\\site-packages (from aiohttp<4.0.0,>=3.8.3->langchain_community) (6.0.4)\n",
      "Requirement already satisfied: yarl<2.0,>=1.0 in c:\\users\\lenovo\\anaconda3\\lib\\site-packages (from aiohttp<4.0.0,>=3.8.3->langchain_community) (1.9.3)\n",
      "Requirement already satisfied: marshmallow<4.0.0,>=3.18.0 in c:\\users\\lenovo\\anaconda3\\lib\\site-packages (from dataclasses-json<0.7,>=0.5.7->langchain_community) (3.21.3)\n",
      "Requirement already satisfied: typing-inspect<1,>=0.4.0 in c:\\users\\lenovo\\anaconda3\\lib\\site-packages (from dataclasses-json<0.7,>=0.5.7->langchain_community) (0.9.0)\n",
      "Requirement already satisfied: langchain-text-splitters<0.3.0,>=0.2.0 in c:\\users\\lenovo\\anaconda3\\lib\\site-packages (from langchain<0.3.0,>=0.2.5->langchain_community) (0.2.1)\n",
      "Requirement already satisfied: pydantic<3,>=1 in c:\\users\\lenovo\\anaconda3\\lib\\site-packages (from langchain<0.3.0,>=0.2.5->langchain_community) (1.10.12)\n",
      "Requirement already satisfied: jsonpatch<2.0,>=1.33 in c:\\users\\lenovo\\anaconda3\\lib\\site-packages (from langchain-core<0.3.0,>=0.2.7->langchain_community) (1.33)\n",
      "Requirement already satisfied: packaging<25,>=23.2 in c:\\users\\lenovo\\anaconda3\\lib\\site-packages (from langchain-core<0.3.0,>=0.2.7->langchain_community) (24.1)\n",
      "Requirement already satisfied: orjson<4.0.0,>=3.9.14 in c:\\users\\lenovo\\anaconda3\\lib\\site-packages (from langsmith<0.2.0,>=0.1.0->langchain_community) (3.10.5)\n",
      "Requirement already satisfied: charset-normalizer<4,>=2 in c:\\users\\lenovo\\anaconda3\\lib\\site-packages (from requests<3,>=2->langchain_community) (2.0.4)\n",
      "Requirement already satisfied: idna<4,>=2.5 in c:\\users\\lenovo\\anaconda3\\lib\\site-packages (from requests<3,>=2->langchain_community) (3.4)\n",
      "Requirement already satisfied: urllib3<3,>=1.21.1 in c:\\users\\lenovo\\anaconda3\\lib\\site-packages (from requests<3,>=2->langchain_community) (2.0.7)\n",
      "Requirement already satisfied: certifi>=2017.4.17 in c:\\users\\lenovo\\anaconda3\\lib\\site-packages (from requests<3,>=2->langchain_community) (2024.2.2)\n",
      "Requirement already satisfied: typing-extensions>=4.6.0 in c:\\users\\lenovo\\anaconda3\\lib\\site-packages (from SQLAlchemy<3,>=1.4->langchain_community) (4.9.0)\n",
      "Requirement already satisfied: greenlet!=0.4.17 in c:\\users\\lenovo\\anaconda3\\lib\\site-packages (from SQLAlchemy<3,>=1.4->langchain_community) (3.0.1)\n",
      "Requirement already satisfied: jsonpointer>=1.9 in c:\\users\\lenovo\\anaconda3\\lib\\site-packages (from jsonpatch<2.0,>=1.33->langchain-core<0.3.0,>=0.2.7->langchain_community) (2.1)\n",
      "Requirement already satisfied: mypy-extensions>=0.3.0 in c:\\users\\lenovo\\anaconda3\\lib\\site-packages (from typing-inspect<1,>=0.4.0->dataclasses-json<0.7,>=0.5.7->langchain_community) (1.0.0)\n"
     ]
    }
   ],
   "source": [
    "!pip install langchain_community"
   ]
  },
  {
   "cell_type": "code",
   "execution_count": 6,
   "id": "e2aff0d5-29ed-4867-8bba-1e4d9bc4f52c",
   "metadata": {},
   "outputs": [
    {
     "name": "stdout",
     "output_type": "stream",
     "text": [
      "Requirement already satisfied: PyPDF2 in c:\\users\\lenovo\\anaconda3\\lib\\site-packages (3.0.1)\n"
     ]
    }
   ],
   "source": [
    "!pip install PyPDF2"
   ]
  },
  {
   "cell_type": "code",
   "execution_count": 7,
   "id": "d3a021c4-7ff7-4dc8-a2f3-9f9f89052518",
   "metadata": {},
   "outputs": [
    {
     "name": "stdout",
     "output_type": "stream",
     "text": [
      "Requirement already satisfied: groq in c:\\users\\lenovo\\anaconda3\\lib\\site-packages (0.9.0)\n",
      "Requirement already satisfied: anyio<5,>=3.5.0 in c:\\users\\lenovo\\anaconda3\\lib\\site-packages (from groq) (4.2.0)\n",
      "Requirement already satisfied: distro<2,>=1.7.0 in c:\\users\\lenovo\\anaconda3\\lib\\site-packages (from groq) (1.8.0)\n",
      "Requirement already satisfied: httpx<1,>=0.23.0 in c:\\users\\lenovo\\anaconda3\\lib\\site-packages (from groq) (0.27.0)\n",
      "Requirement already satisfied: pydantic<3,>=1.9.0 in c:\\users\\lenovo\\anaconda3\\lib\\site-packages (from groq) (1.10.12)\n",
      "Requirement already satisfied: sniffio in c:\\users\\lenovo\\anaconda3\\lib\\site-packages (from groq) (1.3.0)\n",
      "Requirement already satisfied: typing-extensions<5,>=4.7 in c:\\users\\lenovo\\anaconda3\\lib\\site-packages (from groq) (4.9.0)\n",
      "Requirement already satisfied: idna>=2.8 in c:\\users\\lenovo\\anaconda3\\lib\\site-packages (from anyio<5,>=3.5.0->groq) (3.4)\n",
      "Requirement already satisfied: certifi in c:\\users\\lenovo\\anaconda3\\lib\\site-packages (from httpx<1,>=0.23.0->groq) (2024.2.2)\n",
      "Requirement already satisfied: httpcore==1.* in c:\\users\\lenovo\\anaconda3\\lib\\site-packages (from httpx<1,>=0.23.0->groq) (1.0.5)\n",
      "Requirement already satisfied: h11<0.15,>=0.13 in c:\\users\\lenovo\\anaconda3\\lib\\site-packages (from httpcore==1.*->httpx<1,>=0.23.0->groq) (0.14.0)\n"
     ]
    }
   ],
   "source": [
    "!pip install groq"
   ]
  },
  {
   "cell_type": "code",
   "execution_count": 8,
   "id": "13be4b0f-0df4-43fe-a814-23fea15b0168",
   "metadata": {},
   "outputs": [
    {
     "name": "stdout",
     "output_type": "stream",
     "text": [
      "Requirement already satisfied: langchain in c:\\users\\lenovo\\anaconda3\\lib\\site-packages (0.2.5)\n",
      "Requirement already satisfied: PyYAML>=5.3 in c:\\users\\lenovo\\anaconda3\\lib\\site-packages (from langchain) (6.0.1)\n",
      "Requirement already satisfied: SQLAlchemy<3,>=1.4 in c:\\users\\lenovo\\anaconda3\\lib\\site-packages (from langchain) (2.0.25)\n",
      "Requirement already satisfied: aiohttp<4.0.0,>=3.8.3 in c:\\users\\lenovo\\anaconda3\\lib\\site-packages (from langchain) (3.9.3)\n",
      "Requirement already satisfied: langchain-core<0.3.0,>=0.2.7 in c:\\users\\lenovo\\anaconda3\\lib\\site-packages (from langchain) (0.2.9)\n",
      "Requirement already satisfied: langchain-text-splitters<0.3.0,>=0.2.0 in c:\\users\\lenovo\\anaconda3\\lib\\site-packages (from langchain) (0.2.1)\n",
      "Requirement already satisfied: langsmith<0.2.0,>=0.1.17 in c:\\users\\lenovo\\anaconda3\\lib\\site-packages (from langchain) (0.1.82)\n",
      "Requirement already satisfied: numpy<2,>=1 in c:\\users\\lenovo\\anaconda3\\lib\\site-packages (from langchain) (1.26.4)\n",
      "Requirement already satisfied: pydantic<3,>=1 in c:\\users\\lenovo\\anaconda3\\lib\\site-packages (from langchain) (1.10.12)\n",
      "Requirement already satisfied: requests<3,>=2 in c:\\users\\lenovo\\anaconda3\\lib\\site-packages (from langchain) (2.31.0)\n",
      "Requirement already satisfied: tenacity<9.0.0,>=8.1.0 in c:\\users\\lenovo\\anaconda3\\lib\\site-packages (from langchain) (8.2.2)\n",
      "Requirement already satisfied: aiosignal>=1.1.2 in c:\\users\\lenovo\\anaconda3\\lib\\site-packages (from aiohttp<4.0.0,>=3.8.3->langchain) (1.2.0)\n",
      "Requirement already satisfied: attrs>=17.3.0 in c:\\users\\lenovo\\anaconda3\\lib\\site-packages (from aiohttp<4.0.0,>=3.8.3->langchain) (23.1.0)\n",
      "Requirement already satisfied: frozenlist>=1.1.1 in c:\\users\\lenovo\\anaconda3\\lib\\site-packages (from aiohttp<4.0.0,>=3.8.3->langchain) (1.4.0)\n",
      "Requirement already satisfied: multidict<7.0,>=4.5 in c:\\users\\lenovo\\anaconda3\\lib\\site-packages (from aiohttp<4.0.0,>=3.8.3->langchain) (6.0.4)\n",
      "Requirement already satisfied: yarl<2.0,>=1.0 in c:\\users\\lenovo\\anaconda3\\lib\\site-packages (from aiohttp<4.0.0,>=3.8.3->langchain) (1.9.3)\n",
      "Requirement already satisfied: jsonpatch<2.0,>=1.33 in c:\\users\\lenovo\\anaconda3\\lib\\site-packages (from langchain-core<0.3.0,>=0.2.7->langchain) (1.33)\n",
      "Requirement already satisfied: packaging<25,>=23.2 in c:\\users\\lenovo\\anaconda3\\lib\\site-packages (from langchain-core<0.3.0,>=0.2.7->langchain) (24.1)\n",
      "Requirement already satisfied: orjson<4.0.0,>=3.9.14 in c:\\users\\lenovo\\anaconda3\\lib\\site-packages (from langsmith<0.2.0,>=0.1.17->langchain) (3.10.5)\n",
      "Requirement already satisfied: typing-extensions>=4.2.0 in c:\\users\\lenovo\\anaconda3\\lib\\site-packages (from pydantic<3,>=1->langchain) (4.9.0)\n",
      "Requirement already satisfied: charset-normalizer<4,>=2 in c:\\users\\lenovo\\anaconda3\\lib\\site-packages (from requests<3,>=2->langchain) (2.0.4)\n",
      "Requirement already satisfied: idna<4,>=2.5 in c:\\users\\lenovo\\anaconda3\\lib\\site-packages (from requests<3,>=2->langchain) (3.4)\n",
      "Requirement already satisfied: urllib3<3,>=1.21.1 in c:\\users\\lenovo\\anaconda3\\lib\\site-packages (from requests<3,>=2->langchain) (2.0.7)\n",
      "Requirement already satisfied: certifi>=2017.4.17 in c:\\users\\lenovo\\anaconda3\\lib\\site-packages (from requests<3,>=2->langchain) (2024.2.2)\n",
      "Requirement already satisfied: greenlet!=0.4.17 in c:\\users\\lenovo\\anaconda3\\lib\\site-packages (from SQLAlchemy<3,>=1.4->langchain) (3.0.1)\n",
      "Requirement already satisfied: jsonpointer>=1.9 in c:\\users\\lenovo\\anaconda3\\lib\\site-packages (from jsonpatch<2.0,>=1.33->langchain-core<0.3.0,>=0.2.7->langchain) (2.1)\n"
     ]
    }
   ],
   "source": [
    "!pip install langchain"
   ]
  },
  {
   "cell_type": "code",
   "execution_count": 9,
   "id": "3bc02484-3582-4f3b-aa85-957181c22b90",
   "metadata": {},
   "outputs": [
    {
     "name": "stdout",
     "output_type": "stream",
     "text": [
      "Requirement already satisfied: fastapi in c:\\users\\lenovo\\anaconda3\\lib\\site-packages (0.111.0)\n",
      "Requirement already satisfied: uvicorn in c:\\users\\lenovo\\anaconda3\\lib\\site-packages (0.30.1)\n",
      "Requirement already satisfied: pymupdf in c:\\users\\lenovo\\anaconda3\\lib\\site-packages (1.24.6)\n",
      "Requirement already satisfied: starlette<0.38.0,>=0.37.2 in c:\\users\\lenovo\\anaconda3\\lib\\site-packages (from fastapi) (0.37.2)\n",
      "Requirement already satisfied: pydantic!=1.8,!=1.8.1,!=2.0.0,!=2.0.1,!=2.1.0,<3.0.0,>=1.7.4 in c:\\users\\lenovo\\anaconda3\\lib\\site-packages (from fastapi) (1.10.12)\n",
      "Requirement already satisfied: typing-extensions>=4.8.0 in c:\\users\\lenovo\\anaconda3\\lib\\site-packages (from fastapi) (4.9.0)\n",
      "Requirement already satisfied: fastapi-cli>=0.0.2 in c:\\users\\lenovo\\anaconda3\\lib\\site-packages (from fastapi) (0.0.4)\n",
      "Requirement already satisfied: httpx>=0.23.0 in c:\\users\\lenovo\\anaconda3\\lib\\site-packages (from fastapi) (0.27.0)\n",
      "Requirement already satisfied: jinja2>=2.11.2 in c:\\users\\lenovo\\anaconda3\\lib\\site-packages (from fastapi) (3.1.3)\n",
      "Requirement already satisfied: python-multipart>=0.0.7 in c:\\users\\lenovo\\anaconda3\\lib\\site-packages (from fastapi) (0.0.9)\n",
      "Requirement already satisfied: ujson!=4.0.2,!=4.1.0,!=4.2.0,!=4.3.0,!=5.0.0,!=5.1.0,>=4.0.1 in c:\\users\\lenovo\\anaconda3\\lib\\site-packages (from fastapi) (5.4.0)\n",
      "Requirement already satisfied: orjson>=3.2.1 in c:\\users\\lenovo\\anaconda3\\lib\\site-packages (from fastapi) (3.10.5)\n",
      "Requirement already satisfied: email_validator>=2.0.0 in c:\\users\\lenovo\\anaconda3\\lib\\site-packages (from fastapi) (2.2.0)\n",
      "Requirement already satisfied: click>=7.0 in c:\\users\\lenovo\\anaconda3\\lib\\site-packages (from uvicorn) (8.1.7)\n",
      "Requirement already satisfied: h11>=0.8 in c:\\users\\lenovo\\anaconda3\\lib\\site-packages (from uvicorn) (0.14.0)\n",
      "Requirement already satisfied: PyMuPDFb==1.24.6 in c:\\users\\lenovo\\anaconda3\\lib\\site-packages (from pymupdf) (1.24.6)\n",
      "Requirement already satisfied: colorama in c:\\users\\lenovo\\anaconda3\\lib\\site-packages (from click>=7.0->uvicorn) (0.4.6)\n",
      "Requirement already satisfied: dnspython>=2.0.0 in c:\\users\\lenovo\\anaconda3\\lib\\site-packages (from email_validator>=2.0.0->fastapi) (2.6.1)\n",
      "Requirement already satisfied: idna>=2.0.0 in c:\\users\\lenovo\\anaconda3\\lib\\site-packages (from email_validator>=2.0.0->fastapi) (3.4)\n",
      "Requirement already satisfied: typer>=0.12.3 in c:\\users\\lenovo\\anaconda3\\lib\\site-packages (from fastapi-cli>=0.0.2->fastapi) (0.12.3)\n",
      "Requirement already satisfied: anyio in c:\\users\\lenovo\\anaconda3\\lib\\site-packages (from httpx>=0.23.0->fastapi) (4.2.0)\n",
      "Requirement already satisfied: certifi in c:\\users\\lenovo\\anaconda3\\lib\\site-packages (from httpx>=0.23.0->fastapi) (2024.2.2)\n",
      "Requirement already satisfied: httpcore==1.* in c:\\users\\lenovo\\anaconda3\\lib\\site-packages (from httpx>=0.23.0->fastapi) (1.0.5)\n",
      "Requirement already satisfied: sniffio in c:\\users\\lenovo\\anaconda3\\lib\\site-packages (from httpx>=0.23.0->fastapi) (1.3.0)\n",
      "Requirement already satisfied: MarkupSafe>=2.0 in c:\\users\\lenovo\\anaconda3\\lib\\site-packages (from jinja2>=2.11.2->fastapi) (2.1.3)\n",
      "Requirement already satisfied: httptools>=0.5.0 in c:\\users\\lenovo\\anaconda3\\lib\\site-packages (from uvicorn[standard]>=0.12.0->fastapi) (0.6.1)\n",
      "Requirement already satisfied: python-dotenv>=0.13 in c:\\users\\lenovo\\anaconda3\\lib\\site-packages (from uvicorn[standard]>=0.12.0->fastapi) (0.21.0)\n",
      "Requirement already satisfied: pyyaml>=5.1 in c:\\users\\lenovo\\anaconda3\\lib\\site-packages (from uvicorn[standard]>=0.12.0->fastapi) (6.0.1)\n",
      "Requirement already satisfied: watchfiles>=0.13 in c:\\users\\lenovo\\anaconda3\\lib\\site-packages (from uvicorn[standard]>=0.12.0->fastapi) (0.22.0)\n",
      "Requirement already satisfied: websockets>=10.4 in c:\\users\\lenovo\\anaconda3\\lib\\site-packages (from uvicorn[standard]>=0.12.0->fastapi) (12.0)\n",
      "Requirement already satisfied: shellingham>=1.3.0 in c:\\users\\lenovo\\anaconda3\\lib\\site-packages (from typer>=0.12.3->fastapi-cli>=0.0.2->fastapi) (1.5.4)\n",
      "Requirement already satisfied: rich>=10.11.0 in c:\\users\\lenovo\\anaconda3\\lib\\site-packages (from typer>=0.12.3->fastapi-cli>=0.0.2->fastapi) (13.3.5)\n",
      "Requirement already satisfied: markdown-it-py<3.0.0,>=2.2.0 in c:\\users\\lenovo\\anaconda3\\lib\\site-packages (from rich>=10.11.0->typer>=0.12.3->fastapi-cli>=0.0.2->fastapi) (2.2.0)\n",
      "Requirement already satisfied: pygments<3.0.0,>=2.13.0 in c:\\users\\lenovo\\anaconda3\\lib\\site-packages (from rich>=10.11.0->typer>=0.12.3->fastapi-cli>=0.0.2->fastapi) (2.15.1)\n",
      "Requirement already satisfied: mdurl~=0.1 in c:\\users\\lenovo\\anaconda3\\lib\\site-packages (from markdown-it-py<3.0.0,>=2.2.0->rich>=10.11.0->typer>=0.12.3->fastapi-cli>=0.0.2->fastapi) (0.1.0)\n",
      "Note: you may need to restart the kernel to use updated packages.\n"
     ]
    }
   ],
   "source": [
    "pip install fastapi uvicorn pymupdf"
   ]
  },
  {
   "cell_type": "code",
   "execution_count": 10,
   "id": "0e8e6e74-c8d2-4e84-bfc4-494ed260e369",
   "metadata": {},
   "outputs": [
    {
     "name": "stdout",
     "output_type": "stream",
     "text": [
      "Requirement already satisfied: nest_asyncio in c:\\users\\lenovo\\anaconda3\\lib\\site-packages (1.6.0)\n"
     ]
    }
   ],
   "source": [
    "!pip install nest_asyncio"
   ]
  },
  {
   "cell_type": "code",
   "execution_count": 11,
   "id": "3547f6f3-39c3-4608-933a-a023781a763e",
   "metadata": {},
   "outputs": [
    {
     "name": "stdout",
     "output_type": "stream",
     "text": [
      "Requirement already satisfied: elevenlabs in c:\\users\\lenovo\\anaconda3\\lib\\site-packages (1.3.1)\n",
      "Requirement already satisfied: httpx>=0.21.2 in c:\\users\\lenovo\\anaconda3\\lib\\site-packages (from elevenlabs) (0.27.0)\n",
      "Requirement already satisfied: pydantic>=1.9.2 in c:\\users\\lenovo\\anaconda3\\lib\\site-packages (from elevenlabs) (1.10.12)\n",
      "Requirement already satisfied: requests>=2.20 in c:\\users\\lenovo\\anaconda3\\lib\\site-packages (from elevenlabs) (2.31.0)\n",
      "Requirement already satisfied: typing_extensions>=4.0.0 in c:\\users\\lenovo\\anaconda3\\lib\\site-packages (from elevenlabs) (4.9.0)\n",
      "Requirement already satisfied: websockets>=11.0 in c:\\users\\lenovo\\anaconda3\\lib\\site-packages (from elevenlabs) (12.0)\n",
      "Requirement already satisfied: anyio in c:\\users\\lenovo\\anaconda3\\lib\\site-packages (from httpx>=0.21.2->elevenlabs) (4.2.0)\n",
      "Requirement already satisfied: certifi in c:\\users\\lenovo\\anaconda3\\lib\\site-packages (from httpx>=0.21.2->elevenlabs) (2024.2.2)\n",
      "Requirement already satisfied: httpcore==1.* in c:\\users\\lenovo\\anaconda3\\lib\\site-packages (from httpx>=0.21.2->elevenlabs) (1.0.5)\n",
      "Requirement already satisfied: idna in c:\\users\\lenovo\\anaconda3\\lib\\site-packages (from httpx>=0.21.2->elevenlabs) (3.4)\n",
      "Requirement already satisfied: sniffio in c:\\users\\lenovo\\anaconda3\\lib\\site-packages (from httpx>=0.21.2->elevenlabs) (1.3.0)\n",
      "Requirement already satisfied: h11<0.15,>=0.13 in c:\\users\\lenovo\\anaconda3\\lib\\site-packages (from httpcore==1.*->httpx>=0.21.2->elevenlabs) (0.14.0)\n",
      "Requirement already satisfied: charset-normalizer<4,>=2 in c:\\users\\lenovo\\anaconda3\\lib\\site-packages (from requests>=2.20->elevenlabs) (2.0.4)\n",
      "Requirement already satisfied: urllib3<3,>=1.21.1 in c:\\users\\lenovo\\anaconda3\\lib\\site-packages (from requests>=2.20->elevenlabs) (2.0.7)\n",
      "Note: you may need to restart the kernel to use updated packages.\n"
     ]
    }
   ],
   "source": [
    "pip install elevenlabs"
   ]
  },
  {
   "cell_type": "code",
   "execution_count": 12,
   "id": "57f5430e-2a9d-4fb8-ae06-87d0af056bc9",
   "metadata": {},
   "outputs": [
    {
     "name": "stdout",
     "output_type": "stream",
     "text": [
      "Requirement already satisfied: cloudinary in c:\\users\\lenovo\\anaconda3\\lib\\site-packages (1.40.0)\n",
      "Requirement already satisfied: six in c:\\users\\lenovo\\anaconda3\\lib\\site-packages (from cloudinary) (1.16.0)\n",
      "Requirement already satisfied: urllib3>=1.26.5 in c:\\users\\lenovo\\anaconda3\\lib\\site-packages (from cloudinary) (2.0.7)\n",
      "Requirement already satisfied: certifi in c:\\users\\lenovo\\anaconda3\\lib\\site-packages (from cloudinary) (2024.2.2)\n",
      "Note: you may need to restart the kernel to use updated packages.\n"
     ]
    }
   ],
   "source": [
    "pip install cloudinary"
   ]
  },
  {
   "cell_type": "code",
   "execution_count": 13,
   "id": "cc598986-b745-4f1f-aadc-31f11957a563",
   "metadata": {},
   "outputs": [
    {
     "name": "stderr",
     "output_type": "stream",
     "text": [
      "C:\\Users\\Lenovo\\anaconda3\\Lib\\site-packages\\langchain_core\\_api\\deprecation.py:139: LangChainDeprecationWarning: The class `OpenAIEmbeddings` was deprecated in LangChain 0.0.9 and will be removed in 0.3.0. An updated version of the class exists in the langchain-openai package and should be used instead. To use it run `pip install -U langchain-openai` and import as `from langchain_openai from openai import OpenAIEmbeddings`.\n",
      "  warn_deprecated(\n"
     ]
    },
    {
     "name": "stdout",
     "output_type": "stream",
     "text": [
      "Number of items in vectorstore: 1\n",
      "Retriever index: <pinecone.data.index.Index object at 0x00000200C2CB4B50>\n",
      "Number of items in vectorstore: 1\n",
      "Retriever index: <pinecone.data.index.Index object at 0x00000200C538BD50>\n"
     ]
    }
   ],
   "source": [
    "from fastapi.middleware.cors import CORSMiddleware\n",
    "import threading\n",
    "import os\n",
    "import logging\n",
    "from fastapi import FastAPI, File, UploadFile, Form\n",
    "from pydantic import BaseModel\n",
    "from typing import Optional\n",
    "import nest_asyncio\n",
    "\n",
    "from Xfile_upload import extract_text_from_pdf as extract_text_from_xfile\n",
    "from Mfile_upload import extract_text_from_pdf as extract_text_from_mfile\n",
    "\n",
    "from EASllm import EmailArgumentSelector\n",
    "from EJllm import EmailJest\n",
    "from RA import RetrievalProcessor\n",
    "from ASEllm import ArgumentSummarizerEmail\n",
    "from EFEllm import EmaiFromEmail\n",
    "from voice import generate_audio\n",
    "from RE import RetrievalEvidenceProcessor\n",
    "from openlink import open_links\n",
    "\n",
    "from Xllm import XactimateExtractor\n",
    "from Mllm import MeasurementExtractor\n",
    "from Ellm import EstimateGenerator as ContractorEstimateGenerator\n",
    "from Cllm import EstimateComparator\n",
    "from Dllm import ArgumentSelector\n",
    "from AOllm import ArgumentOrganizer\n",
    "from ASllm import ArgumentSummarizer\n",
    "from ESllm import summarize_email\n",
    "\n",
    "# Initialize FastAPI app\n",
    "app = FastAPI()\n",
    "\n",
    "app.add_middleware(\n",
    "    CORSMiddleware,\n",
    "    allow_origins=[\"*\"],  # Allow all origins\n",
    "    allow_credentials=True,\n",
    "    allow_methods=[\"*\"],  # Allow all methods\n",
    "    allow_headers=[\"*\"],  # Allow all headers\n",
    ")\n",
    "\n",
    "# Setup logging\n",
    "logging.basicConfig(level=logging.DEBUG)\n",
    "logger = logging.getLogger(__name__)\n",
    "\n",
    "# Define models for requests\n",
    "class VoiceRequest(BaseModel):\n",
    "    summary: str\n",
    "\n",
    "class EmailRequest(BaseModel):\n",
    "    summary: str\n",
    "    adjuster_email: str\n",
    "\n",
    "@app.post(\"/summarize/\")\n",
    "async def summarize(\n",
    "    estimate_pdf: UploadFile = File(...), \n",
    "    property_pdf: UploadFile = File(...), \n",
    "):\n",
    "    try:\n",
    "        logger.debug(\"Received request to summarize.\")\n",
    "        \n",
    "        # Create a temporary directory\n",
    "        temp_dir = \"temp_files\"\n",
    "        os.makedirs(temp_dir, exist_ok=True)\n",
    "        \n",
    "        # Save the uploaded PDFs temporarily in the temporary directory\n",
    "        estimate_pdf_path = os.path.join(temp_dir, estimate_pdf.filename)\n",
    "        property_pdf_path = os.path.join(temp_dir, property_pdf.filename)\n",
    "        \n",
    "        with open(estimate_pdf_path, \"wb\") as buffer:\n",
    "            buffer.write(estimate_pdf.file.read())\n",
    "        \n",
    "        with open(property_pdf_path, \"wb\") as buffer:\n",
    "            buffer.write(property_pdf.file.read())\n",
    "\n",
    "        xactimate_extractor = XactimateExtractor()\n",
    "\n",
    "        insurance_estimate = xactimate_extractor.extract_estimate(estimate_pdf_path)\n",
    "        print(\"Insurance Company's Estimate:\")\n",
    "        print(insurance_estimate)\n",
    "        print()\n",
    "\n",
    "        measurement_extractor = MeasurementExtractor()\n",
    "        contractor_measurements = measurement_extractor.extract_measurements(property_pdf_path)\n",
    "        print(\"Extracted Measurements:\")\n",
    "        print(contractor_measurements)\n",
    "        print()\n",
    "\n",
    "        contractor_estimate_generator = ContractorEstimateGenerator()\n",
    "        contractor_estimate = contractor_estimate_generator.generate_estimate(contractor_measurements)\n",
    "        print(\"Contractor's Estimate:\")\n",
    "        print(contractor_estimate)\n",
    "        print()\n",
    "\n",
    "        comparator = EstimateComparator()\n",
    "\n",
    "    # Compare the estimates using Cllm.py\n",
    "        differences = comparator.compare_estimates(contractor_estimate, insurance_estimate)\n",
    "        print(\"Differences between Contractor's and Insurance Company's Estimates:\")\n",
    "        print(differences)\n",
    "        print()\n",
    "\n",
    "    # Create an instance of the ArgumentGenerator from Dllm.py\n",
    "        argument_generator = ArgumentSelector()\n",
    "\n",
    "    # Generate arguments based on the differences using Dllm.py\n",
    "        arguments = argument_generator.generate_arguments(differences)\n",
    "        print(\"Selected Arguments to be Distributed to Master Models:\")\n",
    "        print(arguments)\n",
    "        print()\n",
    "\n",
    "    # Create an instance of the ArgumentOrganizer\n",
    "        argument_organizer = ArgumentOrganizer()\n",
    "\n",
    "    # Organize the arguments using AOllm.py\n",
    "        organized_arguments = argument_organizer.organize_arguments(arguments)\n",
    "        print(\"Organized Arguments:\")\n",
    "        print(organized_arguments)\n",
    "        print()\n",
    "\n",
    "    # Create an instance of the RetrievalProcessor\n",
    "        retrieval_processor = RetrievalProcessor()\n",
    "\n",
    "    # Process the organized arguments using R.py\n",
    "        retrieval_processor.process_components(organized_arguments)\n",
    "        print()\n",
    "\n",
    "    # Print the full arguments\n",
    "        print(\"Full Arguments:\")\n",
    "        print(retrieval_processor.full_arguments)\n",
    "\n",
    "    # Create an instance of the ArgumentSummarizer\n",
    "        argument_summarizer = ArgumentSummarizer()\n",
    "\n",
    "    # Summarize the organized arguments using ASllm.py\n",
    "        summary_text = argument_summarizer.summarize_arguments(organized_arguments)\n",
    "        print(\"Summary of Arguments:\")\n",
    "        print(summary_text)\n",
    "        print()\n",
    "\n",
    "        # Remove the temporary files\n",
    "        os.remove(estimate_pdf_path)\n",
    "        os.remove(property_pdf_path)\n",
    "        \n",
    "        email_summary = summarize_email(differences, summary_text, retrieval_processor.full_arguments)\n",
    "        print(\"Email Summary:\")\n",
    "        print(email_summary)\n",
    "        print()\n",
    "\n",
    "        audio_url = generate_audio(email_summary)\n",
    "        \n",
    "        logger.debug(\"Summary generated successfully.\")\n",
    "        \n",
    "        return {\"summary\": summary_text, \"email\":email_summary,   \"audio_url\": audio_url}\n",
    "    \n",
    "    except Exception as e:\n",
    "        logger.error(f\"Error in summarizing: {e}\")\n",
    "        return {\"error\": str(e)}\n",
    "\n",
    "@app.post(\"/generate-voice/\")\n",
    "async def generate_voice(summary: str = Form(...)):\n",
    "    try:\n",
    "        logger.debug(\"Received request to generate voice.\")\n",
    "        \n",
    "        # Create a thread for audio generation\n",
    "        audio_url = generate_audio(summary)\n",
    "        \n",
    "        logger.debug(\"Audio generated successfully.\")\n",
    "        \n",
    "        return {\"audio_url\": audio_url}\n",
    "    \n",
    "    except Exception as e:\n",
    "        logger.error(f\"Error in generating voice: {e}\")\n",
    "        return {\"error\": str(e)}\n",
    "\n",
    "@app.post(\"/generate-email/\")\n",
    "async def generate_email(adjuster_email: str = Form(...)):\n",
    "    try:\n",
    "        logger.debug(\"Received request to generate email.\")\n",
    "        \n",
    "        email_argument_selector = EmailArgumentSelector()\n",
    "        email_arguments = email_argument_selector.extract_arguments(adjuster_email)\n",
    "        print(\"Arguments Extracted from Adjuster's Email:\")\n",
    "        print(email_arguments)\n",
    "\n",
    "        email_jest = EmailJest()\n",
    "        adjuster_jest = email_jest.extract_arguments(adjuster_email)\n",
    "\n",
    "        retrieval_processor = RetrievalProcessor()\n",
    "        retrieval_processor.process_components(email_arguments)\n",
    "\n",
    "        argument_summarizer_email = ArgumentSummarizerEmail()\n",
    "        adjuster_email_arguments = argument_summarizer_email.extract_arguments(adjuster_email)\n",
    "        summary = argument_summarizer_email.summarize_arguments(adjuster_email_arguments, email_jest, retrieval_processor.full_arguments)\n",
    "        \n",
    "        Full_Email_Argument = EmaiFromEmail()\n",
    "        final_email = Full_Email_Argument.the_email_arguments(summary, adjuster_email, email_jest, retrieval_processor.full_arguments)\n",
    "\n",
    "        logger.debug(\"Email generated successfully.\")\n",
    "        print(\"Email To Adjuster:\")\n",
    "        print(final_email)\n",
    "\n",
    "        audio_url = generate_audio(summary)\n",
    "        \n",
    "        return {\"message\": \"Email generated successfully\", \"summary\": summary,\"email\":final_email,  \"audio_url\": audio_url}\n",
    "    \n",
    "    except Exception as e:\n",
    "        logger.error(f\"Error in generating email: {e}\")\n",
    "        return {\"error\": str(e)}\n",
    "\n",
    "import uvicorn\n",
    "import asyncio\n",
    "\n",
    "nest_asyncio.apply()\n",
    "\n",
    "# Check if the event loop is already running\n",
    "if __name__ == \"__main__\":\n",
    "    if asyncio.get_event_loop().is_running():\n",
    "        config = uvicorn.Config(app, host=\"0.0.0.0\", port=8000, log_level=\"debug\")\n",
    "        server = uvicorn.Server(config)\n",
    "        asyncio.create_task(server.serve())\n",
    "    else:\n",
    "        uvicorn.run(app, host=\"0.0.0.0\", port=8000)\n"
   ]
  },
  {
   "cell_type": "code",
   "execution_count": null,
   "id": "d9b43a7c-23d3-4ba5-8421-b66747aee7f1",
   "metadata": {},
   "outputs": [],
   "source": []
  }
 ],
 "metadata": {
  "kernelspec": {
   "display_name": "Python 3 (ipykernel)",
   "language": "python",
   "name": "python3"
  },
  "language_info": {
   "codemirror_mode": {
    "name": "ipython",
    "version": 3
   },
   "file_extension": ".py",
   "mimetype": "text/x-python",
   "name": "python",
   "nbconvert_exporter": "python",
   "pygments_lexer": "ipython3",
   "version": "3.11.7"
  }
 },
 "nbformat": 4,
 "nbformat_minor": 5
}
